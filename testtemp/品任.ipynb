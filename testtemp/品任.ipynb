{
 "cells": [
  {
   "cell_type": "code",
   "execution_count": 34,
   "metadata": {
    "scrolled": true
   },
   "outputs": [
    {
     "data": {
      "text/plain": [
       "Counter({'BASH': 0,\n",
       "         'C': 0,\n",
       "         'C#': 0,\n",
       "         'C++': 0,\n",
       "         'CSS': 0,\n",
       "         'DELPHI': 0,\n",
       "         'GO': 0,\n",
       "         'HTML': 0,\n",
       "         'JAVA': 0,\n",
       "         'JAVASCRIPT': 0,\n",
       "         'PERL': 0,\n",
       "         'PHP': 0,\n",
       "         'PYTHON': 0,\n",
       "         'R': 0,\n",
       "         'RUBY': 0,\n",
       "         'SCALA': 0,\n",
       "         'SQL': 0,\n",
       "         'SWIFT': 0,\n",
       "         'TYPESCRIPT': 0})"
      ]
     },
     "execution_count": 34,
     "metadata": {},
     "output_type": "execute_result"
    }
   ],
   "source": [
    "from bs4 import BeautifulSoup\n",
    "import requests\n",
    "from collections import Counter\n",
    "import re\n",
    "wc = Counter()\n",
    "wc[\"C\"] = 0\n",
    "wc[\"C++\"] = 0\n",
    "wc[\"C#\"] = 0\n",
    "wc[\"PYTHON\"] = 0\n",
    "wc[\"JAVA\"] = 0\n",
    "wc[\"JAVASCRIPT\"] = 0\n",
    "wc[\"PHP\"] = 0\n",
    "wc[\"HTML\"] = 0\n",
    "wc[\"SQL\"] = 0\n",
    "wc[\"CSS\"] = 0\n",
    "wc[\"R\"] = 0\n",
    "wc[\"BASH\"] = 0\n",
    "wc[\"RUBY\"] = 0\n",
    "wc[\"PERL\"] = 0\n",
    "wc[\"SCALA\"] = 0\n",
    "wc[\"SWIFT\"] = 0\n",
    "wc[\"GO\"] = 0\n",
    "wc[\"DELPHI\"] = 0\n",
    "wc[\"TYPESCRIPT\"] = 0\n",
    "wc"
   ]
  },
  {
   "cell_type": "code",
   "execution_count": 35,
   "metadata": {
    "collapsed": true
   },
   "outputs": [],
   "source": [
    "def mouse(url):\n",
    "    res = requests.get(url)\n",
    "    soup = BeautifulSoup(res.text,\"lxml\")\n",
    "    text = []#建空白list為了放內文upper後的值\n",
    "    text1 = soup.select(\"dl.dataList\")#求才條件\n",
    "    for word in text1:\n",
    "        k = word.text.upper()\n",
    "        text.append(k)\n",
    "    a = re.findall('[A-Z]+[+#]*',\"%s\"%text)#取出我們要的值但會有重複\n",
    "    text2 = []#建空白list為了放過濾好的值\n",
    "    for language in a:#過濾重複的值\n",
    "        if language not in text2:\n",
    "            text2.append(language)\n",
    "    from collections import Counter\n",
    "    for target in text2:#計次\n",
    "        if target in wc:\n",
    "            wc[target]+=1\n",
    "    return wc"
   ]
  },
  {
   "cell_type": "code",
   "execution_count": 36,
   "metadata": {
    "collapsed": true
   },
   "outputs": [],
   "source": [
    "befh = \"https://www.1111.com.tw/job-bank/job-index.asp?si=4&sk=100400,100600,100300&fs=0&page=\"\n",
    "for k in range(1,151):\n",
    "    Host = befh+str(k)#換頁\n",
    "    res = requests.get(Host)\n",
    "    soup = BeautifulSoup(res.text,\"lxml\")\n",
    "    choose = soup.select('div.jbInfoin')#為了選標題頁連結\n",
    "    for choose1 in choose:\n",
    "        web = \"https:\"+choose1.select_one('a')['href']#有2個以上的a標籤,故用select_one並將href取出變成內文頁的網址\n",
    "        mouse(web)#呼叫方法"
   ]
  },
  {
   "cell_type": "code",
   "execution_count": 37,
   "metadata": {
    "scrolled": false
   },
   "outputs": [
    {
     "data": {
      "text/plain": [
       "[('JAVA', 989),\n",
       " ('C', 892),\n",
       " ('C++', 856),\n",
       " ('SQL', 836),\n",
       " ('HTML', 819),\n",
       " ('C#', 601),\n",
       " ('CSS', 450),\n",
       " ('JAVASCRIPT', 325),\n",
       " ('PHP', 296),\n",
       " ('PYTHON', 147),\n",
       " ('R', 45),\n",
       " ('SWIFT', 42),\n",
       " ('DELPHI', 41),\n",
       " ('RUBY', 27),\n",
       " ('PERL', 27),\n",
       " ('GO', 8),\n",
       " ('BASH', 7),\n",
       " ('SCALA', 5),\n",
       " ('TYPESCRIPT', 3)]"
      ]
     },
     "execution_count": 37,
     "metadata": {},
     "output_type": "execute_result"
    }
   ],
   "source": [
    "wc.most_common()"
   ]
  },
  {
   "cell_type": "code",
   "execution_count": null,
   "metadata": {
    "collapsed": true
   },
   "outputs": [],
   "source": []
  }
 ],
 "metadata": {
  "kernelspec": {
   "display_name": "Python 3",
   "language": "python",
   "name": "python3"
  },
  "language_info": {
   "codemirror_mode": {
    "name": "ipython",
    "version": 3
   },
   "file_extension": ".py",
   "mimetype": "text/x-python",
   "name": "python",
   "nbconvert_exporter": "python",
   "pygments_lexer": "ipython3",
   "version": "3.6.1"
  }
 },
 "nbformat": 4,
 "nbformat_minor": 2
}
