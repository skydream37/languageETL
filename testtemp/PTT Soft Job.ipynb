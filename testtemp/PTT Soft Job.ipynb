{
 "cells": [
  {
   "cell_type": "code",
   "execution_count": 1,
   "metadata": {},
   "outputs": [
    {
     "data": {
      "text/plain": [
       "Counter({'BASH': 0,\n",
       "         'C': 0,\n",
       "         'C#': 0,\n",
       "         'C++': 0,\n",
       "         'CSS': 0,\n",
       "         'DELPHI': 0,\n",
       "         'GO': 0,\n",
       "         'HTML': 0,\n",
       "         'JAVA': 0,\n",
       "         'JAVASCRIPT': 0,\n",
       "         'PERL': 0,\n",
       "         'PHP': 0,\n",
       "         'PYTHON': 0,\n",
       "         'R': 0,\n",
       "         'RUBY': 0,\n",
       "         'SCALA': 0,\n",
       "         'SQL': 0,\n",
       "         'SWIFT': 0,\n",
       "         'TYPESCRIPT': 0})"
      ]
     },
     "execution_count": 1,
     "metadata": {},
     "output_type": "execute_result"
    }
   ],
   "source": [
    "import requests\n",
    "from bs4 import BeautifulSoup\n",
    "from collections import Counter\n",
    "import re\n",
    "wc = Counter()\n",
    "wc[\"C\"] = 0\n",
    "wc[\"C++\"] = 0\n",
    "wc[\"C#\"] = 0\n",
    "wc[\"PYTHON\"] = 0\n",
    "wc[\"JAVA\"] = 0\n",
    "wc[\"JAVASCRIPT\"] = 0\n",
    "wc[\"PHP\"] = 0\n",
    "wc[\"HTML\"] = 0\n",
    "wc[\"SQL\"] = 0\n",
    "wc[\"CSS\"] = 0\n",
    "wc[\"R\"] = 0\n",
    "wc[\"BASH\"] = 0\n",
    "wc[\"RUBY\"] = 0\n",
    "wc[\"PERL\"] = 0\n",
    "wc[\"SCALA\"] = 0\n",
    "wc[\"SWIFT\"] = 0\n",
    "wc[\"GO\"] = 0\n",
    "wc[\"DELPHI\"] = 0\n",
    "wc[\"TYPESCRIPT\"] = 0\n",
    "wc"
   ]
  },
  {
   "cell_type": "code",
   "execution_count": 3,
   "metadata": {},
   "outputs": [
    {
     "name": "stdout",
     "output_type": "stream",
     "text": [
      "[Debug] current page is 1200\n",
      "[Debug] current page is 1150\n",
      "[Debug] current page is 1100\n",
      "[Debug] current page is 1050\n",
      "[Debug] current page is 1000\n",
      "[Debug] current page is 950\n",
      "'NoneType' object has no attribute 'text' /bbs/Soft_Job/M.1425399221.A.3E3.html\n",
      "[Debug] current page is 900\n",
      "'NoneType' object has no attribute 'text' /bbs/Soft_Job/M.1416569946.A.FD4.html\n",
      "[Debug] current page is 850\n",
      "[Debug] current page is 800\n",
      "[Debug] current page is 750\n",
      "[Debug] current page is 700\n",
      "[Debug] current page is 650\n",
      "[Debug] current page is 600\n",
      "[Debug] current page is 550\n",
      "[Debug] current page is 500\n",
      "[Debug] current page is 450\n",
      "[Debug] current page is 400\n",
      "[Debug] current page is 350\n",
      "[Debug] current page is 300\n",
      "[Debug] current page is 250\n",
      "[Debug] current page is 200\n",
      "[Debug] current page is 150\n",
      "[Debug] current page is 100\n",
      "[Debug] current page is 50\n"
     ]
    },
    {
     "data": {
      "text/plain": [
       "[('C', 2964),\n",
       " ('R', 2390),\n",
       " ('HTML', 2225),\n",
       " ('JAVA', 867),\n",
       " ('PHP', 851),\n",
       " ('JAVASCRIPT', 829),\n",
       " ('CSS', 668),\n",
       " ('SQL', 507),\n",
       " ('C++', 450),\n",
       " ('C#', 361),\n",
       " ('PYTHON', 349),\n",
       " ('RUBY', 185),\n",
       " ('PERL', 79),\n",
       " ('SWIFT', 61),\n",
       " ('GO', 46),\n",
       " ('SCALA', 30),\n",
       " ('DELPHI', 15),\n",
       " ('BASH', 12),\n",
       " ('TYPESCRIPT', 2)]"
      ]
     },
     "execution_count": 3,
     "metadata": {},
     "output_type": "execute_result"
    }
   ],
   "source": [
    "import time\n",
    "url = 'https://www.ptt.cc/bbs/Soft_Job/index1247.html' #ptt最新頁面\n",
    "\n",
    "HOST = 'https://www.ptt.cc'\n",
    "headers = {\"cookie\":\"over18=1;\"}\n",
    "\n",
    "#換頁\n",
    "res = requests.get(url,headers = headers)\n",
    "soup = BeautifulSoup(res.text,'lxml')\n",
    "buttons = soup.select('a.btn.wide')\n",
    "total_page = int(buttons[1]['href'].split('index')[1].split('.html')[0])+1\n",
    "page_to_crawl = 1247\n",
    "\n",
    "for page in range(total_page, total_page - page_to_crawl, -1): #單頁\n",
    "    if page % 50 == 0:\n",
    "        print('[Debug] current page is {}'.format(page))\n",
    "    try:\n",
    "        res = requests.get(HOST + \"/bbs/Soft_Job/index{}.html\".format(page),headers = headers)\n",
    "        soup = BeautifulSoup(res.text,'lxml')\n",
    "        links = soup.select('div.title > a')\n",
    "        for link in links: #link 是每一篇文\n",
    "            if '徵才' in link.text:\n",
    "#                 print(link.text)\n",
    "                each_link = HOST + link['href']\n",
    "#                 print(each_link)\n",
    "                ptt(each_link)\n",
    "    except Exception as e:\n",
    "        print(e,link['href'])\n",
    "        continue\n",
    "    \n",
    "wc.most_common()"
   ]
  },
  {
   "cell_type": "code",
   "execution_count": 2,
   "metadata": {
    "collapsed": true
   },
   "outputs": [],
   "source": [
    "#爬內文\n",
    "\n",
    "def ptt(each_link):\n",
    "    \n",
    "    res = requests.get(each_link,headers = headers)\n",
    "    soup = BeautifulSoup(res.text,'lxml')\n",
    "\n",
    "    content = soup.select_one('#main-content') #內文\n",
    "    \n",
    "    words = list(set(re.findall('[A-Z]+[+#]*' , content.text, re.IGNORECASE)))#不處理大小寫,set處理重複問題\n",
    "    \n",
    "    for language in words:\n",
    "        if language.upper() in wc.keys():\n",
    "            wc[language.upper()] +=1\n",
    "    "
   ]
  }
 ],
 "metadata": {
  "kernelspec": {
   "display_name": "Python 3",
   "language": "python",
   "name": "python3"
  },
  "language_info": {
   "codemirror_mode": {
    "name": "ipython",
    "version": 3
   },
   "file_extension": ".py",
   "mimetype": "text/x-python",
   "name": "python",
   "nbconvert_exporter": "python",
   "pygments_lexer": "ipython3",
   "version": "3.6.1"
  }
 },
 "nbformat": 4,
 "nbformat_minor": 2
}
