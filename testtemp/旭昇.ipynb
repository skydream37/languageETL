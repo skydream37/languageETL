{
 "cells": [
  {
   "cell_type": "code",
   "execution_count": 1,
   "metadata": {
    "collapsed": true
   },
   "outputs": [],
   "source": [
    "import requests                     #起手式先做好\n",
    "from bs4 import BeautifulSoup\n",
    "import re\n",
    "from collections import Counter"
   ]
  },
  {
   "cell_type": "code",
   "execution_count": 2,
   "metadata": {
    "collapsed": true
   },
   "outputs": [],
   "source": [
    "host = 'https://www.104.com.tw'     \n",
    "wc = Counter()       #自建字典\n",
    "wc[\"C\"]=0                  \n",
    "wc[\"C++\"]=0\n",
    "wc[\"C#\"]=0\n",
    "wc[\"PYTHON\"]=0\n",
    "wc[\"JAVA\"]=0\n",
    "wc[\"JAVASCRIPT\"]=0\n",
    "wc[\"PHP\"]=0\n",
    "wc[\"HTML\"]=0\n",
    "wc[\"SQL\"]=0\n",
    "wc[\"CSS\"]=0\n",
    "wc[\"R\"]=0\n",
    "wc[\"CSS\"]=0\n",
    "wc[\"BASH\"]=0\n",
    "wc[\"RUBY\"]=0\n",
    "wc[\"PERL\"]=0\n",
    "wc[\"SCALA\"]=0\n",
    "wc[\"SWIFT\"]=0\n",
    "wc[\"GO\"]=0\n",
    "wc[\"DELPHI\"]=0\n",
    "wc[\"TYPESCRIPT\"]=0"
   ]
  },
  {
   "cell_type": "code",
   "execution_count": 3,
   "metadata": {
    "collapsed": true
   },
   "outputs": [],
   "source": [
    "def extract(url,wc):                 \n",
    "    res = requests.get(url)\n",
    "    soup = BeautifulSoup(res.text,'lxml')\n",
    "    tool = []\n",
    "    for word in soup.select('dd.tool')[0].text.split('、'):       #每一頁面內的 \"擅長工具：\"欄\n",
    "        tool.append(word.upper())\n",
    "    txt = soup.select('div.content')[1].select('dd')[7].text.upper()    #每一頁面內的 \"其他條件：\"欄\n",
    "    othercond = re.findall('[A-Z]+[+#-C]*',\"%s\" %txt) \n",
    "    target = []\n",
    "    for word in othercond:        #怕有重複值，先用for迴圈檢查\n",
    "        if word not in target:\n",
    "            target.append(word)\n",
    "    \n",
    "    for abc in tool:            #找出網頁內的 \"擅長工具：\"欄內的英文單字並與自建字典比較\n",
    "        if abc in wc:\n",
    "             wc[abc] += 1\n",
    "    for abc in target:          #找出網頁內的 \"其他條件：\"欄內的英文單字並與自建字典比較\n",
    "        if abc in wc:\n",
    "             wc[abc] += 1\n",
    "    "
   ]
  },
  {
   "cell_type": "code",
   "execution_count": 4,
   "metadata": {
    "collapsed": true
   },
   "outputs": [],
   "source": [
    "for i in range (1,):\n",
    "    host = 'https://www.104.com.tw'              #改參數i即可換頁（下一行）\n",
    "    res = requests.get('https://www.104.com.tw/jobbank/joblist/joblist.cfm?jobsource=n104bank1&ro=0&jobcat=2007000000&order=2&asc=0&page='+'i'+'&psl=N_A')   \n",
    "    txt = soup = BeautifulSoup(res.text,'lxml')\n",
    "    address = []\n",
    "    for href in txt.select('div.jobname_summary > a'):   #每一頁內各工作的連接網址\n",
    "        a = href['href']\n",
    "        \n",
    "           # if 'hotorder' not in a:      #奇怪的網址，刪掉\n",
    "               # address.append(a)\n",
    "                #for links in address:                   \n",
    "                #    link.append(host+links)\n",
    "                   # for pagelink in link:\n",
    "                     #   if pagelink != 'https://www.104.com.twjavascript:void(0)':    #類似廣告頁的網址，刪掉\n",
    "        extract(host+a,wc)     #將各內文頁的網址丟入自訂方法內\n",
    "    "
   ]
  },
  {
   "cell_type": "code",
   "execution_count": 5,
   "metadata": {},
   "outputs": [
    {
     "data": {
      "text/plain": [
       "[('JAVA', 76),\n",
       " ('JAVASCRIPT', 76),\n",
       " ('C', 57),\n",
       " ('C#', 57),\n",
       " ('SQL', 38),\n",
       " ('C++', 19),\n",
       " ('PHP', 19),\n",
       " ('HTML', 19),\n",
       " ('PERL', 19),\n",
       " ('SWIFT', 19),\n",
       " ('PYTHON', 0),\n",
       " ('CSS', 0),\n",
       " ('R', 0),\n",
       " ('BASH', 0),\n",
       " ('RUBY', 0),\n",
       " ('SCALA', 0),\n",
       " ('GO', 0),\n",
       " ('DELPHI', 0),\n",
       " ('TYPESCRIPT', 0)]"
      ]
     },
     "execution_count": 5,
     "metadata": {},
     "output_type": "execute_result"
    }
   ],
   "source": [
    "wc.most_common()"
   ]
  },
  {
   "cell_type": "code",
   "execution_count": null,
   "metadata": {
    "collapsed": true
   },
   "outputs": [],
   "source": []
  }
 ],
 "metadata": {
  "kernelspec": {
   "display_name": "Python 3",
   "language": "python",
   "name": "python3"
  },
  "language_info": {
   "codemirror_mode": {
    "name": "ipython",
    "version": 3
   },
   "file_extension": ".py",
   "mimetype": "text/x-python",
   "name": "python",
   "nbconvert_exporter": "python",
   "pygments_lexer": "ipython3",
   "version": "3.6.1"
  }
 },
 "nbformat": 4,
 "nbformat_minor": 2
}
