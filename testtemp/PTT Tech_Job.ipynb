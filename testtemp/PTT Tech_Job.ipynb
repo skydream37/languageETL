{
 "cells": [
  {
   "cell_type": "code",
   "execution_count": 1,
   "metadata": {},
   "outputs": [
    {
     "data": {
      "text/plain": [
       "Counter({'BASH': 0,\n",
       "         'C': 0,\n",
       "         'C#': 0,\n",
       "         'C++': 0,\n",
       "         'CSS': 0,\n",
       "         'DELPHI': 0,\n",
       "         'GO': 0,\n",
       "         'HTML': 0,\n",
       "         'JAVA': 0,\n",
       "         'JAVASCRIPT': 0,\n",
       "         'PERL': 0,\n",
       "         'PHP': 0,\n",
       "         'PYTHON': 0,\n",
       "         'R': 0,\n",
       "         'RUBY': 0,\n",
       "         'SCALA': 0,\n",
       "         'SQL': 0,\n",
       "         'SWIFT': 0,\n",
       "         'TYPESCRIPT': 0})"
      ]
     },
     "execution_count": 1,
     "metadata": {},
     "output_type": "execute_result"
    }
   ],
   "source": [
    "import requests\n",
    "from bs4 import BeautifulSoup\n",
    "from collections import Counter\n",
    "import re\n",
    "wc = Counter()\n",
    "# wc[\"C\"] = 0\n",
    "langs = ['C', 'C++','C#','PYTHON','JAVA','JAVASCRIPT','PHP','HTML','SQL','CSS','R','BASH','RUBY','PERL','SCALA','SWIFT','GO','DELPHI','TYPESCRIPT']\n",
    "#value初始化\n",
    "for lang in langs:\n",
    "    wc[lang] = 0\n",
    "wc"
   ]
  },
  {
   "cell_type": "code",
   "execution_count": 2,
   "metadata": {
    "collapsed": true
   },
   "outputs": [],
   "source": [
    "def ptt(each_link):\n",
    "    \n",
    "    res = requests.get(each_link,headers = headers)\n",
    "    soup = BeautifulSoup(res.text,'lxml')\n",
    "\n",
    "    content = soup.select_one('#main-content') #內文\n",
    "\n",
    "    words = list(set(re.findall('[A-Z]+[+#]*' , content.text, re.IGNORECASE)))#不處理大小寫,set處理重複問題\n",
    "\n",
    "    for language in words:\n",
    "        if language.upper() in wc.keys():\n",
    "            wc[language.upper()] +=1"
   ]
  },
  {
   "cell_type": "code",
   "execution_count": null,
   "metadata": {},
   "outputs": [],
   "source": [
    "#換頁\n",
    "url = 'https://www.ptt.cc/bbs/Tech_Job/index2633.html'\n",
    "HOST = 'https://www.ptt.cc'\n",
    "headers = {\"cookie\":\"over18=1;\"}\n",
    "\n",
    "res = requests.get(url,headers = headers)\n",
    "soup = BeautifulSoup(res.text,'lxml')\n",
    "\n",
    "buttons = soup.select('a.btn.wide')\n",
    "total_page = int(buttons[1]['href'].split('index')[1].split('.html')[0])+1\n",
    "page_to_crawl = 2633"
   ]
  },
  {
   "cell_type": "code",
   "execution_count": null,
   "metadata": {},
   "outputs": [],
   "source": [
    "#把網址全部寫出去到csv檔\n",
    "for page in range(total_page,total_page - page_to_crawl,-1):\n",
    "    res = requests.get('https://www.ptt.cc/bbs/Tech_Job/index{}.html'.format(page),headers = headers)\n",
    "    soup = BeautifulSoup(res.text,'lxml')\n",
    "    links = soup.select('div.title > a')\n",
    "    for link in links:\n",
    "        if '徵才' in link.text:\n",
    "            each_link = HOST + link['href'] \n",
    "#             ptt(each_link)\n",
    "            with open ('ptt.csv','a') as fw:\n",
    "                fw.write('{}\\n'.format(each_link))"
   ]
  },
  {
   "cell_type": "code",
   "execution_count": 3,
   "metadata": {},
   "outputs": [
    {
     "name": "stdout",
     "output_type": "stream",
     "text": [
      "current link 0\n",
      "current link 50\n",
      "current link 100\n",
      "current link 150\n",
      "current link 200\n",
      "current link 250\n",
      "current link 300\n",
      "current link 350\n",
      "current link 400\n",
      "current link 450\n",
      "current link 500\n",
      "current link 550\n",
      "https://www.ptt.cc/bbs/Tech_Job/M.1453799067.A.335.html ('Connection aborted.', OSError(50, 'Network is down'))\n",
      "current link 600\n",
      "current link 650\n",
      "current link 700\n",
      "current link 750\n",
      "current link 800\n",
      "https://www.ptt.cc/bbs/Tech_Job/M.1431326015.A.EF2.html 'NoneType' object has no attribute 'text'\n",
      "https://www.ptt.cc/bbs/Tech_Job/M.1431100181.A.5BF.html 'NoneType' object has no attribute 'text'\n",
      "current link 850\n",
      "current link 900\n",
      "https://www.ptt.cc/bbs/Tech_Job/M.1427551433.A.FDA.html 'NoneType' object has no attribute 'text'\n",
      "https://www.ptt.cc/bbs/Tech_Job/M.1426647334.A.160.html ('Connection aborted.', OSError(50, 'Network is down'))\n",
      "current link 950\n",
      "https://www.ptt.cc/bbs/Tech_Job/M.1425399436.A.5EC.html 'NoneType' object has no attribute 'text'\n",
      "current link 1000\n",
      "https://www.ptt.cc/bbs/Tech_Job/M.1416569758.A.381.html 'NoneType' object has no attribute 'text'\n",
      "https://www.ptt.cc/bbs/Tech_Job/M.1415771933.A.7C9.html 'NoneType' object has no attribute 'text'\n",
      "current link 1050\n",
      "current link 1100\n",
      "current link 1150\n",
      "current link 1200\n",
      "current link 1250\n",
      "current link 1300\n",
      "current link 1350\n",
      "https://www.ptt.cc/bbs/Tech_Job/M.1378740298.A.6DF.html 'NoneType' object has no attribute 'text'\n",
      "https://www.ptt.cc/bbs/Tech_Job/M.1376050740.A.9B7.html 'NoneType' object has no attribute 'text'\n",
      "current link 1400\n",
      "https://www.ptt.cc/bbs/Tech_Job/M.1373519861.A.43A.html 'NoneType' object has no attribute 'text'\n",
      "current link 1450\n",
      "https://www.ptt.cc/bbs/Tech_Job/M.1370872324.A.37D.html 'NoneType' object has no attribute 'text'\n",
      "https://www.ptt.cc/bbs/Tech_Job/M.1369801630.A.AB6.html 'NoneType' object has no attribute 'text'\n",
      "current link 1500\n",
      "current link 1550\n",
      "current link 1600\n",
      "current link 1650\n",
      "current link 1700\n",
      "current link 1750\n",
      "current link 1800\n",
      "current link 1850\n"
     ]
    },
    {
     "data": {
      "text/plain": [
       "[('C', 1527),\n",
       " ('HTML', 1351),\n",
       " ('R', 1230),\n",
       " ('JAVA', 215),\n",
       " ('C++', 206),\n",
       " ('PHP', 180),\n",
       " ('JAVASCRIPT', 144),\n",
       " ('SQL', 126),\n",
       " ('CSS', 106),\n",
       " ('PYTHON', 104),\n",
       " ('C#', 97),\n",
       " ('RUBY', 65),\n",
       " ('PERL', 30),\n",
       " ('SWIFT', 13),\n",
       " ('GO', 12),\n",
       " ('SCALA', 8),\n",
       " ('BASH', 3),\n",
       " ('TYPESCRIPT', 2),\n",
       " ('DELPHI', 1)]"
      ]
     },
     "execution_count": 3,
     "metadata": {},
     "output_type": "execute_result"
    }
   ],
   "source": [
    "headers = {\"cookie\":\"over18=1;\"}\n",
    "\n",
    "#打開儲存link的csv檔(ptt.csv)\n",
    "\n",
    "with open ('ptt.csv','r') as fr:\n",
    "    texts = fr.read().split('\\n')\n",
    "    #因為最後會有空白，所以做下面這件事\n",
    "    #     del texts[-1] \n",
    "    texts = [text  for text in texts if len(text) > 0]#如果texts裡面的text長度大於0的話就變成text\n",
    "    \n",
    "    for idx,link in enumerate(texts):\n",
    "        if idx % 50 ==0:\n",
    "            print('current link {}'.format(idx))\n",
    "        try:\n",
    "             \n",
    "#             print(link)\n",
    "            ptt(link)\n",
    "        except Exception as e:\n",
    "            print(link,e)\n",
    "            continue\n",
    "    \n",
    "#把counter結果寫進ptt_lands.csv檔\n",
    "with open ('ptt_langs.csv','w') as fw:\n",
    "\n",
    "    for lang,counts in wc.most_common():\n",
    "        fw.write('{},{}\\n'.format(lang,counts))\n",
    "        \n",
    "wc.most_common()"
   ]
  },
  {
   "cell_type": "code",
   "execution_count": 4,
   "metadata": {},
   "outputs": [
    {
     "data": {
      "text/plain": [
       "[('C', 5),\n",
       " ('HTML', 5),\n",
       " ('R', 5),\n",
       " ('C#', 2),\n",
       " ('SQL', 2),\n",
       " ('JAVA', 1),\n",
       " ('PHP', 1),\n",
       " ('RUBY', 1),\n",
       " ('C++', 0),\n",
       " ('PYTHON', 0),\n",
       " ('JAVASCRIPT', 0),\n",
       " ('CSS', 0),\n",
       " ('BASH', 0),\n",
       " ('PERL', 0),\n",
       " ('SCALA', 0),\n",
       " ('SWIFT', 0),\n",
       " ('GO', 0),\n",
       " ('DELPHI', 0),\n",
       " ('TYPESCRIPT', 0)]"
      ]
     },
     "execution_count": 4,
     "metadata": {},
     "output_type": "execute_result"
    }
   ],
   "source": [
    "wc.most_common()"
   ]
  }
 ],
 "metadata": {
  "kernelspec": {
   "display_name": "Python 3",
   "language": "python",
   "name": "python3"
  },
  "language_info": {
   "codemirror_mode": {
    "name": "ipython",
    "version": 3
   },
   "file_extension": ".py",
   "mimetype": "text/x-python",
   "name": "python",
   "nbconvert_exporter": "python",
   "pygments_lexer": "ipython3",
   "version": "3.6.1"
  }
 },
 "nbformat": 4,
 "nbformat_minor": 2
}
